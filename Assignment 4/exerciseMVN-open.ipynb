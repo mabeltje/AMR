{
 "cells": [
  {
   "cell_type": "code",
   "execution_count": 1,
   "metadata": {},
   "outputs": [],
   "source": [
    "import numpy as np\n",
    "import scipy.stats as spstats\n",
    "import matplotlib.pyplot as plt"
   ]
  },
  {
   "cell_type": "code",
   "execution_count": 2,
   "metadata": {},
   "outputs": [],
   "source": [
    "def covMatrix(sig1,sig2,rho):\n",
    "    \"\"\"return a numpy array containing the covariance matrix described by \n",
    "    sig1: the marginal standard deviation of the x variable\n",
    "    sig2: the marginal standard deviation of the y variable\n",
    "    rho:  the correlation coefficient between x and y variables\"\"\"\n",
    "    #return np.asarray( ) #TODO1: return the correct matrix here\n",
    "    return None"
   ]
  },
  {
   "cell_type": "code",
   "execution_count": 11,
   "metadata": {},
   "outputs": [],
   "source": [
    "def plotSamples(ax,mean,sigma):\n",
    "    \"\"\"generates samples from a multivariate normal distributions with given mean and covariance matrix, \n",
    "    plot them in ax.\"\"\"\n",
    "    samples = np.random.multivariate_normal(mean,sigma,50) #sample\n",
    "    #TODO2: plot the x and y values of the generated samples in axis ax using the plot command. \n",
    "    #       plot each datapoint as a dot (that is, do not connect the dots with lines)\n",
    "    #       store the output of the plot command as h (this handle allows adding the graph in the legend)\n",
    "    return h[0]"
   ]
  },
  {
   "cell_type": "code",
   "execution_count": 12,
   "metadata": {},
   "outputs": [],
   "source": [
    "def plotDensityContours(ax,mean,sigma):\n",
    "    \"\"\"plot a contour plot of the multivariate normal distribution with given mean and covariance matrix in ax \"\"\"\n",
    "    x = np.linspace(-3, 3, 50)\n",
    "    y = np.linspace(-3, 3, 50)\n",
    "\n",
    "    X, Y = np.meshgrid(x, y)\n",
    "    Z = np.zeros(X.shape)\n",
    "\n",
    "    for xidx in range(X.shape[0]):\n",
    "        for yidx in range(X.shape[1]):\n",
    "            Z[xidx, yidx] = spstats.multivariate_normal.pdf([X[xidx,yidx],Y[xidx,yidx]],mean,sigma)\n",
    "\n",
    "    \n",
    "    CS = ax.contour(X,Y,Z)\n",
    "    ax.clabel(CS, inline=1, fontsize=8)\n",
    "    "
   ]
  },
  {
   "cell_type": "code",
   "execution_count": 3,
   "metadata": {},
   "outputs": [],
   "source": [
    "def doplots(means, covs, names):\n",
    "    \"\"\"take a list of three mean vectors, three covariance matrices, and three names, and plot them. \n",
    "    The samples will be plotted with different colors in the same plot.\n",
    "    The contours will be plotted in different subplot each.\"\"\"\n",
    "    fig1 = plt.figure()\n",
    "    ax = fig1.add_subplot(111)\n",
    "    h1 = plotSamples(ax,means[0],covs[0])\n",
    "    h2 = plotSamples(ax,means[1],covs[1])\n",
    "    h3 = plotSamples(ax,means[2],covs[2])\n",
    "    ax.legend([h1,h2,h3],names)\n",
    "    ax.axis('equal')\n",
    "    plt.show()\n",
    "\n",
    "    fig1 = plt.figure(figsize=[14.4,4.8])\n",
    "    ax = fig1.add_subplot(131)\n",
    "    plotDensityContours(ax,means[0],covs[0])\n",
    "    ax.axis('equal')\n",
    "    ax.set_title(names[0])\n",
    "\n",
    "    ax = fig1.add_subplot(132)\n",
    "    plotDensityContours(ax,means[1],covs[1])\n",
    "    ax.axis('equal')\n",
    "    ax.set_title(names[1])\n",
    "    \n",
    "    ax = fig1.add_subplot(133)\n",
    "    plotDensityContours(ax,means[2],covs[2])\n",
    "    ax.axis('equal')\n",
    "    ax.set_title(names[2])\n",
    "\n",
    "    plt.show()"
   ]
  },
  {
   "cell_type": "code",
   "execution_count": 1,
   "metadata": {},
   "outputs": [],
   "source": [
    "#TODO 3: plot multi-variate normal distributions with the identity matrix as covariance,\n",
    "#        and means [1,0],[0,0], and [0,2]."
   ]
  },
  {
   "cell_type": "code",
   "execution_count": 4,
   "metadata": {},
   "outputs": [],
   "source": [
    "#TODO 4: plot multi-variate normal distributions with [0,0] as mean, \n",
    "#        and with sigma_1 2,1,or 0.5. (keep the values sigma_2=1 and rho=0 )\n",
    "\n",
    "\n",
    "\n"
   ]
  },
  {
   "cell_type": "code",
   "execution_count": 5,
   "metadata": {},
   "outputs": [],
   "source": [
    "#TODO 5: plot multi-variate normal distributions with [0,0] as mean, \n",
    "#        and with sigma_2 2,1,or 0.5. (keep the values sigma_1=1 and rho=0 )"
   ]
  },
  {
   "cell_type": "code",
   "execution_count": 2,
   "metadata": {},
   "outputs": [],
   "source": [
    "#TODO 6: plot multi-variate normal distributions with [0,0] as mean, \n",
    "#        and with rho -0.5, 0, and 0.9. (keep the values sigma_1=1 and sigma_2=1 )"
   ]
  }
 ],
 "metadata": {
  "kernelspec": {
   "display_name": "Python 3",
   "language": "python",
   "name": "python3"
  },
  "language_info": {
   "codemirror_mode": {
    "name": "ipython",
    "version": 3
   },
   "file_extension": ".py",
   "mimetype": "text/x-python",
   "name": "python",
   "nbconvert_exporter": "python",
   "pygments_lexer": "ipython3",
   "version": "3.5.2"
  }
 },
 "nbformat": 4,
 "nbformat_minor": 4
}
